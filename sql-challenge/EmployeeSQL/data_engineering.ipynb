{
 "cells": [
  {
   "cell_type": "markdown",
   "id": "c3919603",
   "metadata": {},
   "source": [
    "# Data Engineering\n",
    "## Import the CSV files"
   ]
  },
  {
   "cell_type": "code",
   "execution_count": 1,
   "id": "5bf2a17d",
   "metadata": {},
   "outputs": [],
   "source": [
    "import pandas as pd\n",
    "import numpy as np\n",
    "\n",
    "titles = pd.read_csv('../data/titles.csv')\n",
    "employees = pd.read_csv('../data/employees.csv')\n",
    "departments = pd.read_csv('../data/departments.csv')\n",
    "salaries = pd.read_csv('../data/salaries.csv')\n",
    "dept_emp = pd.read_csv('../data/dept_emp.csv')\n",
    "dept_manager = pd.read_csv('../data/dept_manager.csv')"
   ]
  },
  {
   "cell_type": "markdown",
   "id": "b2d80a64",
   "metadata": {},
   "source": [
    "## Determine the primary keys and data relationships\n",
    "### `titles`"
   ]
  },
  {
   "cell_type": "code",
   "execution_count": 2,
   "id": "285d991f",
   "metadata": {},
   "outputs": [
    {
     "data": {
      "text/plain": [
       "True"
      ]
     },
     "execution_count": 2,
     "metadata": {},
     "output_type": "execute_result"
    }
   ],
   "source": [
    "# Since the count of `title_id` rows is equal to the number of unique `title_id` rows,\n",
    "# all `title_id` rows are unique and can be used as primary keys.\n",
    "titles.title_id.count() == titles.title_id.nunique()"
   ]
  },
  {
   "cell_type": "markdown",
   "id": "3c8ea01c",
   "metadata": {},
   "source": [
    "### `employees`"
   ]
  },
  {
   "cell_type": "code",
   "execution_count": 3,
   "id": "7ffe6c08",
   "metadata": {},
   "outputs": [
    {
     "data": {
      "text/plain": [
       "True"
      ]
     },
     "execution_count": 3,
     "metadata": {},
     "output_type": "execute_result"
    }
   ],
   "source": [
    "# Since the count of `emp_no` rows is equal to the number of unique `emp_no` rows, \n",
    "# all `emp_no` rows are unique and can be used as primary keys.\n",
    "employees.emp_no.count() == employees.emp_no.nunique()"
   ]
  },
  {
   "cell_type": "markdown",
   "id": "e3dbd44b",
   "metadata": {},
   "source": [
    "### `departments`"
   ]
  },
  {
   "cell_type": "code",
   "execution_count": 4,
   "id": "cb27ec09",
   "metadata": {},
   "outputs": [
    {
     "data": {
      "text/plain": [
       "True"
      ]
     },
     "execution_count": 4,
     "metadata": {},
     "output_type": "execute_result"
    }
   ],
   "source": [
    "# Since the count of `dept_no` rows is equal to the number of unique `dept_no` rows,\n",
    "# all `dept_no` rows are unique and can be used as primary keys.\n",
    "departments.dept_no.count() == departments.dept_no.nunique()"
   ]
  },
  {
   "cell_type": "markdown",
   "id": "e4f21e1c",
   "metadata": {},
   "source": [
    "### `salaries`"
   ]
  },
  {
   "cell_type": "code",
   "execution_count": 5,
   "id": "8a37ed40",
   "metadata": {},
   "outputs": [
    {
     "data": {
      "text/plain": [
       "True"
      ]
     },
     "execution_count": 5,
     "metadata": {},
     "output_type": "execute_result"
    }
   ],
   "source": [
    "# Since the number of `emp_no` rows is equal to the number of unique `emp_no` rows,\n",
    "# all `emp_no` rows are unique and can be used as primary keys.\n",
    "salaries.emp_no.count() == salaries.emp_no.nunique()"
   ]
  },
  {
   "cell_type": "code",
   "execution_count": 6,
   "id": "1e7bf3bd",
   "metadata": {},
   "outputs": [
    {
     "data": {
      "text/plain": [
       "True"
      ]
     },
     "execution_count": 6,
     "metadata": {},
     "output_type": "execute_result"
    }
   ],
   "source": [
    "# Since `salaries` and `employees`, which both use `emp-no` as primary keys, have matching rows,\n",
    "# they have a one-to-one relationship.\n",
    "np.array_equal(salaries.emp_no.sort_values(), employees.emp_no.sort_values())"
   ]
  },
  {
   "cell_type": "markdown",
   "id": "573af3f2",
   "metadata": {},
   "source": [
    "### `dept_emp`"
   ]
  },
  {
   "cell_type": "code",
   "execution_count": 7,
   "id": "eb8cef10",
   "metadata": {},
   "outputs": [
    {
     "name": "stdout",
     "output_type": "stream",
     "text": [
      "True\n",
      "True\n",
      "False\n"
     ]
    }
   ],
   "source": [
    "# The count of rows is greater than the number of unique values for either `emp_no` or `dept_no`,\n",
    "# indicating presence of non-unique values.\n",
    "print(dept_emp.emp_no.count() > dept_emp.emp_no.nunique())\n",
    "print(dept_emp.dept_no.count() > dept_emp.dept_no.nunique())\n",
    "\n",
    "# However, when combined, they uniquely identify each row, so they can be used as composite keys.\n",
    "print(dept_emp.groupby(['emp_no','dept_no']).size().apply(lambda x:x>1).any())"
   ]
  },
  {
   "cell_type": "markdown",
   "id": "db984dc0",
   "metadata": {},
   "source": [
    "### `dept_manager`"
   ]
  },
  {
   "cell_type": "code",
   "execution_count": 8,
   "id": "6dab5190",
   "metadata": {},
   "outputs": [
    {
     "data": {
      "text/plain": [
       "True"
      ]
     },
     "execution_count": 8,
     "metadata": {},
     "output_type": "execute_result"
    }
   ],
   "source": [
    "# Since the number of `emp_no` rows is equal to the number of unique `emp_no` rows,\n",
    "# all `emp_no` rows are unique and can be used as primary keys.\n",
    "dept_manager.emp_no.count() == dept_manager.emp_no.nunique()"
   ]
  },
  {
   "cell_type": "code",
   "execution_count": 9,
   "id": "b6b248ab",
   "metadata": {},
   "outputs": [
    {
     "data": {
      "text/plain": [
       "True"
      ]
     },
     "execution_count": 9,
     "metadata": {},
     "output_type": "execute_result"
    }
   ],
   "source": [
    "# Note that `dept_manager` is reduced from `dept_emp` to include `emp_no` only for managers.\n",
    "all(dept_manager.emp_no.isin(dept_emp.emp_no))"
   ]
  },
  {
   "cell_type": "markdown",
   "id": "8be9eca6",
   "metadata": {},
   "source": [
    "## Determine the value lengths of attributes"
   ]
  },
  {
   "cell_type": "code",
   "execution_count": 10,
   "id": "4177269d",
   "metadata": {},
   "outputs": [],
   "source": [
    "def check_length(attribute):\n",
    "    '''\n",
    "    This function prints the value length of an attribute.\n",
    "    If the value length is fixed, it prints out the fixed number of characters.\n",
    "    If the value length varies, it prints out the maximum number of characters.\n",
    "    '''\n",
    "    if attribute.map(len).nunique() == 1:\n",
    "        print(f'\"{attribute.name}\" has a fixed length of {attribute.map(len).unique()[0]}.')\n",
    "    else:\n",
    "        print(f'The length for \"{attribute.name}\" varies, with a max length of {attribute.map(len).max()}.')"
   ]
  },
  {
   "cell_type": "code",
   "execution_count": 11,
   "id": "bbb2b0f6",
   "metadata": {},
   "outputs": [
    {
     "name": "stdout",
     "output_type": "stream",
     "text": [
      "\"title_id\" has a fixed length of 5.\n",
      "The length for \"title\" varies, with a max length of 18.\n"
     ]
    }
   ],
   "source": [
    "# titles\n",
    "check_length(titles.title_id)\n",
    "check_length(titles.title)"
   ]
  },
  {
   "cell_type": "code",
   "execution_count": 12,
   "id": "4eb27f54",
   "metadata": {},
   "outputs": [
    {
     "name": "stdout",
     "output_type": "stream",
     "text": [
      "\"emp_title_id\" has a fixed length of 5.\n",
      "The length for \"first_name\" varies, with a max length of 14.\n",
      "The length for \"last_name\" varies, with a max length of 16.\n"
     ]
    }
   ],
   "source": [
    "# employees\n",
    "check_length(employees.emp_title_id)\n",
    "check_length(employees.first_name)\n",
    "check_length(employees.last_name)"
   ]
  },
  {
   "cell_type": "code",
   "execution_count": 13,
   "id": "bcd0c7e6",
   "metadata": {},
   "outputs": [
    {
     "name": "stdout",
     "output_type": "stream",
     "text": [
      "\"dept_no\" has a fixed length of 4.\n",
      "The length for \"dept_name\" varies, with a max length of 18.\n"
     ]
    }
   ],
   "source": [
    "# departments\n",
    "check_length(departments.dept_no)\n",
    "check_length(departments.dept_name)"
   ]
  }
 ],
 "metadata": {
  "kernelspec": {
   "display_name": "PythonData",
   "language": "python",
   "name": "pythondata"
  },
  "language_info": {
   "codemirror_mode": {
    "name": "ipython",
    "version": 3
   },
   "file_extension": ".py",
   "mimetype": "text/x-python",
   "name": "python",
   "nbconvert_exporter": "python",
   "pygments_lexer": "ipython3",
   "version": "3.7.7"
  }
 },
 "nbformat": 4,
 "nbformat_minor": 5
}
